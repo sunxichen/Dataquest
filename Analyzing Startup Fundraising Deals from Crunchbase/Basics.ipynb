{
 "cells": [
  {
   "cell_type": "markdown",
   "metadata": {
    "collapsed": true
   },
   "source": [
    "# Description\n",
    "You can find the datasets [here](https://github.com/datahoarder/crunchbase-october-2013/blob/master/crunchbase-investments.csv).\n",
    "\n",
    "在本项目中，我们假定内存的容量只有几十MB, 而我们的数据集大小为10.3MB, 通常用pandas读取所有数据后，使用的内存大小会是数据集的4到6倍。所以我们应使用一些方法来用pandas更好得处理大型数据集。"
   ]
  },
  {
   "cell_type": "code",
   "execution_count": 7,
   "metadata": {},
   "outputs": [],
   "source": [
    "import pandas as pd\n",
    "\n",
    "chunk_iter = pd.read_csv('crunchbase-investments.csv', chunksize=5000, encoding='ISO-8859-1')"
   ]
  },
  {
   "cell_type": "code",
   "execution_count": 8,
   "metadata": {},
   "outputs": [
    {
     "data": {
      "text/plain": [
       "company_country_code          1\n",
       "company_name                  1\n",
       "company_permalink             1\n",
       "company_region                1\n",
       "investor_region               2\n",
       "investor_permalink            2\n",
       "investor_name                 2\n",
       "funded_quarter                3\n",
       "funded_at                     3\n",
       "funded_month                  3\n",
       "funded_year                   3\n",
       "funding_round_type            3\n",
       "company_state_code          492\n",
       "company_city                533\n",
       "company_category_code       643\n",
       "raised_amount_usd          3599\n",
       "investor_country_code     12001\n",
       "investor_city             12480\n",
       "investor_state_code       16809\n",
       "investor_category_code    50427\n",
       "dtype: int64"
      ]
     },
     "execution_count": 8,
     "metadata": {},
     "output_type": "execute_result"
    }
   ],
   "source": [
    "mv_list = []\n",
    "for chunk in chunk_iter:\n",
    "    mv_list.append(chunk.isnull().sum())\n",
    "    \n",
    "combined_mv_vc = pd.concat(mv_list)\n",
    "unique_combined_mv_vc = combined_mv_vc.groupby(combined_mv_vc.index).sum()\n",
    "unique_combined_mv_vc.sort_values()"
   ]
  },
  {
   "cell_type": "markdown",
   "metadata": {},
   "source": [
    "### Total memory footprint for each column"
   ]
  },
  {
   "cell_type": "code",
   "execution_count": 9,
   "metadata": {},
   "outputs": [
    {
     "data": {
      "text/plain": [
       "company_permalink         4057788\n",
       "company_name              3591326\n",
       "company_category_code     3421104\n",
       "company_country_code      3172176\n",
       "company_state_code        3106051\n",
       "company_region            3411585\n",
       "company_city              3505926\n",
       "investor_permalink        4980548\n",
       "investor_name             3915666\n",
       "investor_category_code     622424\n",
       "investor_country_code     2647292\n",
       "investor_state_code       2476607\n",
       "investor_region           3396281\n",
       "investor_city             2885083\n",
       "funding_round_type        3410707\n",
       "funded_at                 3542185\n",
       "funded_month              3383584\n",
       "funded_quarter            3383584\n",
       "funded_year                422960\n",
       "raised_amount_usd          422960\n",
       "dtype: int64"
      ]
     },
     "execution_count": 9,
     "metadata": {},
     "output_type": "execute_result"
    }
   ],
   "source": [
    "chunk_iter = pd.read_csv('crunchbase-investments.csv', chunksize=5000, encoding='ISO-8859-1')\n",
    "counter = 0\n",
    "series_memory_fp = pd.Series()\n",
    "for chunk in chunk_iter:\n",
    "    if counter == 0:\n",
    "        series_memory_fp = chunk.memory_usage(deep=True)\n",
    "    else:\n",
    "        series_memory_fp += chunk.memory_usage(deep=True)\n",
    "    counter += 1\n",
    "\n",
    "# Drop memory footprint calculation for the index.\n",
    "series_memory_fp = series_memory_fp.drop('Index')\n",
    "series_memory_fp"
   ]
  },
  {
   "cell_type": "code",
   "execution_count": 10,
   "metadata": {},
   "outputs": [
    {
     "data": {
      "text/plain": [
       "56.987607002258301"
      ]
     },
     "execution_count": 10,
     "metadata": {},
     "output_type": "execute_result"
    }
   ],
   "source": [
    "series_memory_fp.sum() / (1024 * 1024)"
   ]
  },
  {
   "cell_type": "code",
   "execution_count": 11,
   "metadata": {},
   "outputs": [],
   "source": [
    "# Drop columns representing URL's or containing way too many missing values (>90% missing)\n",
    "drop_cols = ['investor_permalink', 'company_permalink', 'investor_category_code']\n",
    "keep_cols = chunk.columns.drop(drop_cols)"
   ]
  },
  {
   "cell_type": "code",
   "execution_count": 14,
   "metadata": {},
   "outputs": [
    {
     "data": {
      "text/plain": [
       "<bound method IndexOpsMixin.tolist of Index(['company_name', 'company_category_code', 'company_country_code',\n",
       "       'company_state_code', 'company_region', 'company_city', 'investor_name',\n",
       "       'investor_country_code', 'investor_state_code', 'investor_region',\n",
       "       'investor_city', 'funding_round_type', 'funded_at', 'funded_month',\n",
       "       'funded_quarter', 'funded_year', 'raised_amount_usd'],\n",
       "      dtype='object')>"
      ]
     },
     "execution_count": 14,
     "metadata": {},
     "output_type": "execute_result"
    }
   ],
   "source": [
    "keep_cols.tolist"
   ]
  },
  {
   "cell_type": "markdown",
   "metadata": {},
   "source": [
    "### Selecting Data Type"
   ]
  },
  {
   "cell_type": "code",
   "execution_count": 15,
   "metadata": {},
   "outputs": [],
   "source": [
    "# Key: Column name, Value: List of types# Key: C \n",
    "col_types = {}\n",
    "chunk_iter = pd.read_csv('crunchbase-investments.csv', chunksize=5000, encoding='ISO-8859-1', usecols=keep_cols)\n",
    "\n",
    "for chunk in chunk_iter:\n",
    "    for col in chunk.columns:\n",
    "        if col not in col_types:\n",
    "            col_types[col] = [str(chunk.dtypes[col])]\n",
    "        else:\n",
    "            col_types[col].append(str(chunk.dtypes[col]))"
   ]
  },
  {
   "cell_type": "code",
   "execution_count": 17,
   "metadata": {},
   "outputs": [
    {
     "data": {
      "text/plain": [
       "{'company_name': {'object'},\n",
       " 'company_category_code': {'object'},\n",
       " 'company_country_code': {'object'},\n",
       " 'company_state_code': {'object'},\n",
       " 'company_region': {'object'},\n",
       " 'company_city': {'object'},\n",
       " 'investor_name': {'object'},\n",
       " 'investor_country_code': {'float64', 'object'},\n",
       " 'investor_state_code': {'float64', 'object'},\n",
       " 'investor_region': {'object'},\n",
       " 'investor_city': {'float64', 'object'},\n",
       " 'funding_round_type': {'object'},\n",
       " 'funded_at': {'object'},\n",
       " 'funded_month': {'object'},\n",
       " 'funded_quarter': {'object'},\n",
       " 'funded_year': {'float64', 'int64'},\n",
       " 'raised_amount_usd': {'float64'}}"
      ]
     },
     "execution_count": 17,
     "metadata": {},
     "output_type": "execute_result"
    }
   ],
   "source": [
    "uniq_col_types = {}\n",
    "for k,v in col_types.items():\n",
    "    uniq_col_types[k] = set(col_types[k])\n",
    "uniq_col_types"
   ]
  },
  {
   "cell_type": "code",
   "execution_count": 18,
   "metadata": {},
   "outputs": [
    {
     "name": "stdout",
     "output_type": "stream",
     "text": [
      "  company_name company_category_code company_country_code company_state_code  \\\n",
      "0     AdverCar           advertising                  USA                 CA   \n",
      "1   LaunchGram                  news                  USA                 CA   \n",
      "2         uTaP             messaging                  USA                NaN   \n",
      "3     ZoopShop              software                  USA                 OH   \n",
      "4     eFuneral                   web                  USA                 OH   \n",
      "\n",
      "          company_region   company_city      investor_name  \\\n",
      "0                 SF Bay  San Francisco  1-800-FLOWERS.COM   \n",
      "1                 SF Bay  Mountain View        10Xelerator   \n",
      "2  United States - Other            NaN        10Xelerator   \n",
      "3               Columbus       columbus        10Xelerator   \n",
      "4              Cleveland      Cleveland        10Xelerator   \n",
      "\n",
      "  investor_country_code investor_state_code investor_region investor_city  \\\n",
      "0                   USA                  NY        New York      New York   \n",
      "1                   USA                  OH        Columbus      Columbus   \n",
      "2                   USA                  OH        Columbus      Columbus   \n",
      "3                   USA                  OH        Columbus      Columbus   \n",
      "4                   USA                  OH        Columbus      Columbus   \n",
      "\n",
      "  funding_round_type   funded_at funded_month funded_quarter  \n",
      "0           series-a  2012-10-30      2012-10        2012-Q4  \n",
      "1              other  2012-01-23      2012-01        2012-Q1  \n",
      "2              other  2012-01-01      2012-01        2012-Q1  \n",
      "3              angel  2012-02-15      2012-02        2012-Q1  \n",
      "4              other  2011-09-08      2011-09        2011-Q3  \n",
      "['company_name', 'company_category_code', 'company_country_code', 'company_state_code', 'company_region', 'company_city', 'investor_name', 'investor_country_code', 'investor_state_code', 'investor_region', 'investor_city', 'funding_round_type', 'funded_at', 'funded_month', 'funded_quarter']\n",
      "\n",
      "\n",
      "\n",
      "\n",
      "Evaluate unique value less than 50% of total data counts\n",
      "\n",
      "Columns that should be convert to category type:\n",
      " ['company_name', 'company_category_code', 'company_country_code', 'company_state_code', 'company_region', 'company_city', 'investor_name', 'investor_country_code', 'investor_state_code', 'investor_region', 'investor_city', 'funding_round_type', 'funded_at', 'funded_month', 'funded_quarter']\n"
     ]
    }
   ],
   "source": [
    "chunk_iter = pd.read_csv('crunchbase-investments.csv', chunksize=5000, encoding='ISO-8859-1', usecols=keep_cols)\n",
    "\n",
    "unique_vals = {}\n",
    "all_columns = []\n",
    "\n",
    "for i, df in enumerate(chunk_iter):\n",
    "    \n",
    "    obj_cols = df.select_dtypes(include=['object'])\n",
    "    if i == 0:\n",
    "        print(obj_cols.head(5))\n",
    "    \n",
    "    for c in obj_cols.columns:\n",
    "        if c not in unique_vals:\n",
    "            unique_vals[c] = []\n",
    "            all_columns.append(c)\n",
    "            \n",
    "        unique_vals[c].append(obj_cols[c].value_counts())\n",
    "    \n",
    "print(all_columns)\n",
    "\n",
    "print(\"\\n\\n\\n\\nEvaluate unique value less than 50% of total data counts\\n\")\n",
    "to_cat_cols = []\n",
    "\n",
    "for c in unique_vals:\n",
    "    unique_vals[c] = pd.concat(unique_vals[c])\n",
    "    unique_vals[c] = unique_vals[c].groupby(unique_vals[c].index).sum()\n",
    "    \n",
    "    if len(unique_vals[c])/unique_vals[c].sum() < 0.5:\n",
    "        to_cat_cols.append(c)\n",
    "        \n",
    "print(\"Columns that should be convert to category type:\\n\", to_cat_cols)"
   ]
  },
  {
   "cell_type": "code",
   "execution_count": 19,
   "metadata": {},
   "outputs": [],
   "source": [
    "useful_cols = ['company_category_code', 'company_country_code', 'company_state_code', 'company_region', 'company_city', 'investor_name', 'investor_category_code', 'investor_country_code', 'investor_state_code', 'investor_city', 'funding_round_type', 'funded_at','raised_amount_usd']\n",
    "to_dat_cols = ['funded_at']\n",
    "to_cat_cols = ['investor_category_code', 'funding_round_type', 'investor_region', 'investor_name', 'company_category_code', 'investor_state_code', 'company_country_code', 'company_region', 'investor_city', 'company_city', 'investor_country_code', 'company_state_code']"
   ]
  },
  {
   "cell_type": "code",
   "execution_count": 20,
   "metadata": {},
   "outputs": [],
   "source": [
    "to_cat_cols_dict = {}\n",
    "\n",
    "for c in to_cat_cols:\n",
    "    to_cat_cols_dict[c] = 'category'\n",
    "\n",
    "to_cat_cols_dict[\"raised_amount_usd\"] = 'float32'"
   ]
  },
  {
   "cell_type": "code",
   "execution_count": 21,
   "metadata": {},
   "outputs": [],
   "source": [
    "def  refined_read_data_in_chunk ():\n",
    "    df_iter = pd.read_csv(\"crunchbase-investments.csv\", encoding='latin1', chunksize=5000, usecols=useful_cols, parse_dates=to_dat_cols, dtype=to_cat_cols_dict)\n",
    "    return df_iter"
   ]
  },
  {
   "cell_type": "code",
   "execution_count": 22,
   "metadata": {},
   "outputs": [
    {
     "name": "stdout",
     "output_type": "stream",
     "text": [
      "Mem (MB):  0.405341148376\n",
      "Mem (MB):  0.312647819519\n",
      "Mem (MB):  0.309641838074\n",
      "Mem (MB):  0.280262947083\n",
      "Mem (MB):  0.30348110199\n",
      "Mem (MB):  0.30148601532\n",
      "Mem (MB):  0.313261985779\n",
      "Mem (MB):  0.303908348083\n",
      "Mem (MB):  0.334197044373\n",
      "Mem (MB):  0.411164283752\n",
      "Mem (MB):  0.243041992188\n",
      "Total Mem (MB):  3.51843452454\n",
      "dtypes:  company_category_code           category\n",
      "company_country_code            category\n",
      "company_state_code              category\n",
      "company_region                  category\n",
      "company_city                    category\n",
      "investor_name                   category\n",
      "investor_category_code          category\n",
      "investor_country_code           category\n",
      "investor_state_code             category\n",
      "investor_city                   category\n",
      "funding_round_type              category\n",
      "funded_at                 datetime64[ns]\n",
      "raised_amount_usd                float32\n",
      "dtype: object\n",
      "columns:  ['company_category_code', 'company_country_code', 'company_state_code', 'company_region', 'company_city', 'investor_name', 'investor_category_code', 'investor_country_code', 'investor_state_code', 'investor_city', 'funding_round_type', 'funded_at', 'raised_amount_usd']\n"
     ]
    }
   ],
   "source": [
    "df_iter = refined_read_data_in_chunk()\n",
    "\n",
    "total_mem = 0\n",
    "\n",
    "for i, df in enumerate(df_iter):\n",
    "    \n",
    "    mem = df.memory_usage(deep=True).sum()/(1024*1024)\n",
    "    total_mem += mem\n",
    "    print(\"Mem (MB): \", mem)\n",
    "    \n",
    "    \n",
    "print(\"Total Mem (MB): \", total_mem)\n",
    "\n",
    "df_iter = refined_read_data_in_chunk()\n",
    "for df in df_iter:\n",
    "    print(\"dtypes: \", df.dtypes)\n",
    "    print(\"columns: \", df.columns.tolist())\n",
    "    break"
   ]
  },
  {
   "cell_type": "markdown",
   "metadata": {},
   "source": [
    "### 将DataFrame存储到数据库表中"
   ]
  },
  {
   "cell_type": "code",
   "execution_count": 23,
   "metadata": {},
   "outputs": [
    {
     "name": "stdout",
     "output_type": "stream",
     "text": [
      "    cid                    name       type  notnull dflt_value  pk\n",
      "0     0   company_category_code       TEXT        0       None   0\n",
      "1     1    company_country_code       TEXT        0       None   0\n",
      "2     2      company_state_code       TEXT        0       None   0\n",
      "3     3          company_region       TEXT        0       None   0\n",
      "4     4            company_city       TEXT        0       None   0\n",
      "5     5           investor_name       TEXT        0       None   0\n",
      "6     6  investor_category_code       TEXT        0       None   0\n",
      "7     7   investor_country_code       TEXT        0       None   0\n",
      "8     8     investor_state_code       TEXT        0       None   0\n",
      "9     9           investor_city       TEXT        0       None   0\n",
      "10   10      funding_round_type       TEXT        0       None   0\n",
      "11   11               funded_at  TIMESTAMP        0       None   0\n",
      "12   12       raised_amount_usd       REAL        0       None   0\n"
     ]
    }
   ],
   "source": [
    "import sqlite3\n",
    "conn = sqlite3.connect('crunch.db')\n",
    "\n",
    "df_iter = refined_read_data_in_chunk()\n",
    "\n",
    "for df in df_iter:\n",
    "    df.to_sql(\"crunch_table\", conn, if_exists='append', index=False)\n",
    "    \n",
    "results_df = pd.read_sql('PRAGMA table_info(crunch_table);', conn)\n",
    "print(results_df)"
   ]
  },
  {
   "cell_type": "code",
   "execution_count": 28,
   "metadata": {},
   "outputs": [
    {
     "name": "stdout",
     "output_type": "stream",
     "text": [
      " 5795840 crunch.db\r\n"
     ]
    }
   ],
   "source": [
    "!wc -c crunch.db"
   ]
  },
  {
   "cell_type": "code",
   "execution_count": 29,
   "metadata": {},
   "outputs": [
    {
     "name": "stdout",
     "output_type": "stream",
     "text": [
      "  company_category_code      investor_name  raised_amount_usd  \\\n",
      "0           advertising  1-800-FLOWERS.COM          2000000.0   \n",
      "1                  news        10Xelerator            20000.0   \n",
      "2             messaging        10Xelerator            20000.0   \n",
      "3              software        10Xelerator            20000.0   \n",
      "4                   web        10Xelerator            20000.0   \n",
      "\n",
      "  funding_round_type  \n",
      "0           series-a  \n",
      "1              other  \n",
      "2              other  \n",
      "3              angel  \n",
      "4              other  \n"
     ]
    }
   ],
   "source": [
    "crunch_df = pd.read_sql('select company_category_code, investor_name, raised_amount_usd, funding_round_type from crunch_table;', conn)\n",
    "print(crunch_df.head())"
   ]
  },
  {
   "cell_type": "code",
   "execution_count": 30,
   "metadata": {},
   "outputs": [
    {
     "name": "stdout",
     "output_type": "stream",
     "text": [
      "                       raised_amount_usd\n",
      "company_category_code                   \n",
      "biotech                     1.103964e+11\n",
      "software                    7.308452e+10\n",
      "mobile                      6.477738e+10\n",
      "cleantech                   5.270523e+10\n",
      "enterprise                  4.586093e+10\n"
     ]
    }
   ],
   "source": [
    "cmp_type_df = crunch_df.groupby(crunch_df.company_category_code).sum()\n",
    "cmp_type_df.sort_values('raised_amount_usd', ascending=False, inplace=True) \n",
    "\n",
    "print(cmp_type_df.head())"
   ]
  },
  {
   "cell_type": "markdown",
   "metadata": {},
   "source": [
    "从上面的结果看biotech类型的公司获得的资金最多"
   ]
  },
  {
   "cell_type": "code",
   "execution_count": 31,
   "metadata": {},
   "outputs": [
    {
     "name": "stdout",
     "output_type": "stream",
     "text": [
      "                                  raised_amount_usd\n",
      "investor_name                                      \n",
      "Kleiner Perkins Caufield & Byers       1.121783e+10\n",
      "New Enterprise Associates              9.692542e+09\n",
      "Accel Partners                         6.472126e+09\n",
      "Goldman Sachs                          6.375459e+09\n",
      "Sequoia Capital                        6.039402e+09\n"
     ]
    }
   ],
   "source": [
    "investor_name_df = crunch_df.groupby(crunch_df.investor_name).sum()\n",
    "investor_name_df.sort_values('raised_amount_usd', ascending=False, inplace=True) \n",
    "\n",
    "print(investor_name_df.head())"
   ]
  },
  {
   "cell_type": "markdown",
   "metadata": {},
   "source": [
    "从结果来看，Kleiner Perkins Caufield & Byers投资的钱最多"
   ]
  },
  {
   "cell_type": "code",
   "execution_count": 32,
   "metadata": {},
   "outputs": [
    {
     "name": "stdout",
     "output_type": "stream",
     "text": [
      "                                  raised_amount_usd  count  avg investment\n",
      "investor_name                                                             \n",
      "Kleiner Perkins Caufield & Byers       1.121783e+10    393    2.854409e+07\n",
      "New Enterprise Associates              9.692542e+09    445    2.178099e+07\n",
      "Accel Partners                         6.472126e+09    322    2.009977e+07\n",
      "Goldman Sachs                          6.375459e+09    123    5.183300e+07\n",
      "Sequoia Capital                        6.039402e+09    369    1.636694e+07\n"
     ]
    }
   ],
   "source": [
    "investor_name_counts = crunch_df.investor_name.value_counts()\n",
    "\n",
    "investor_name_df[\"count\"] = investor_name_counts\n",
    "investor_name_df[\"avg investment\"] = investor_name_df['raised_amount_usd'] / investor_name_df[\"count\"] \n",
    "investor_name_df.sort_values('raised_amount_usd', ascending=False, inplace=True) \n",
    "print(investor_name_df.head())"
   ]
  },
  {
   "cell_type": "markdown",
   "metadata": {},
   "source": [
    "Which investors contributed the most money per startup? ==> still Kleiner Perkins Caufield & Byers"
   ]
  },
  {
   "cell_type": "code",
   "execution_count": 35,
   "metadata": {},
   "outputs": [
    {
     "name": "stdout",
     "output_type": "stream",
     "text": [
      "           count\n",
      "series-a   13938\n",
      "series-c+  10870\n",
      "angel       8989\n",
      "venture     8917\n",
      "series-b    8794\n",
      "                count\n",
      "series-b         8794\n",
      "other             964\n",
      "private-equity    357\n",
      "post-ipo           33\n",
      "crowdfunding        5\n"
     ]
    }
   ],
   "source": [
    "funding_round_type_counts = crunch_df.funding_round_type.value_counts()\n",
    "funding_round_type_df = pd.DataFrame()\n",
    "funding_round_type_df['count'] = funding_round_type_counts\n",
    "funding_round_type_df.sort_values('count', ascending=False, inplace=True) \n",
    "\n",
    "print(funding_round_type_df.head())\n",
    "\n",
    "print(funding_round_type_df.tail())"
   ]
  },
  {
   "cell_type": "markdown",
   "metadata": {},
   "source": [
    "Which funding round was the most popular? ==> series-a Which was the least popular? ==> crowdfunding"
   ]
  }
 ],
 "metadata": {
  "anaconda-cloud": {},
  "kernelspec": {
   "display_name": "Python 3",
   "language": "python",
   "name": "python3"
  },
  "language_info": {
   "codemirror_mode": {
    "name": "ipython",
    "version": 3
   },
   "file_extension": ".py",
   "mimetype": "text/x-python",
   "name": "python",
   "nbconvert_exporter": "python",
   "pygments_lexer": "ipython3",
   "version": "3.6.5"
  }
 },
 "nbformat": 4,
 "nbformat_minor": 2
}
